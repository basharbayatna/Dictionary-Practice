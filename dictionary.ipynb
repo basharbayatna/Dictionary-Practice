{
  "nbformat": 4,
  "nbformat_minor": 0,
  "metadata": {
    "colab": {
      "provenance": [],
      "authorship_tag": "ABX9TyN//iR1rvZQ3E8lg0qG6DQP",
      "include_colab_link": true
    },
    "kernelspec": {
      "name": "python3",
      "display_name": "Python 3"
    },
    "language_info": {
      "name": "python"
    }
  },
  "cells": [
    {
      "cell_type": "markdown",
      "metadata": {
        "id": "view-in-github",
        "colab_type": "text"
      },
      "source": [
        "<a href=\"https://colab.research.google.com/github/basharbayatna/Dictionary-Practice/blob/main/dictionary.ipynb\" target=\"_parent\"><img src=\"https://colab.research.google.com/assets/colab-badge.svg\" alt=\"Open In Colab\"/></a>"
      ]
    },
    {
      "cell_type": "code",
      "execution_count": 1,
      "metadata": {
        "colab": {
          "base_uri": "https://localhost:8080/"
        },
        "id": "i_XRC7fXZLb6",
        "outputId": "a45ef883-1e34-495d-cedf-c0cffa89ec23"
      },
      "outputs": [
        {
          "output_type": "execute_result",
          "data": {
            "text/plain": [
              "{'James': 'Red', 'Purvi': 'Orange', 'Sherlin': 'Purple', 'Josh': 'Indigo'}"
            ]
          },
          "metadata": {},
          "execution_count": 1
        }
      ],
      "source": [
        "\n",
        "# Create the dictionary\n",
        "fav_colors = {'James':'Red',\n",
        "              'Purvi':\"Orange\",\n",
        "              \"Sherlin\":'Purple',\n",
        "              'Josh':'Indigo'}\n",
        "fav_colors\n"
      ]
    },
    {
      "cell_type": "code",
      "source": [
        "# add a new key for \"Neerja\" with the value set to Aqua\n",
        "fav_colors['Neerja'] = 'Green'\n",
        "\n",
        "fav_colors['Bashar'] = 'Blue'"
      ],
      "metadata": {
        "id": "a3-1GGWfDh6T"
      },
      "execution_count": 2,
      "outputs": []
    },
    {
      "cell_type": "code",
      "source": [
        "\n",
        "# Updating the value for James to \"Blue\"\n",
        "fav_colors['James'] = 'Blue'\n",
        "\n",
        "# Confirm that the value has changed\n",
        "fav_colors['James']"
      ],
      "metadata": {
        "colab": {
          "base_uri": "https://localhost:8080/",
          "height": 35
        },
        "id": "thPZpikMDp9A",
        "outputId": "c3454151-eab4-4621-d288-7b94ad2c5a8c"
      },
      "execution_count": 3,
      "outputs": [
        {
          "output_type": "execute_result",
          "data": {
            "text/plain": [
              "'Blue'"
            ],
            "application/vnd.google.colaboratory.intrinsic+json": {
              "type": "string"
            }
          },
          "metadata": {},
          "execution_count": 3
        }
      ]
    },
    {
      "cell_type": "code",
      "source": [
        "fav_colors['Purvi'] = 'Green'\n"
      ],
      "metadata": {
        "id": "Jns-9tmiDlD_"
      },
      "execution_count": 4,
      "outputs": []
    },
    {
      "cell_type": "code",
      "source": [
        "# Create the nested dictionary\n",
        "## make a dictionary of fav_items with the names as the key and a dictionary of {color:red,candy:jelly bellies}\n",
        "fav_items = {\"James\": {'color':'Blue',\n",
        "                       'candy':'Jelly Bellies'},\n",
        "             \"Purvi\": {'color':'Green',\n",
        "                       'candy':'Dark Chocolate'},\n",
        "             'Sherlin': {'color':'Purple',\n",
        "                      'candy':\"Peanut M&M's\"},\n",
        "             'Josh': {'color':'Indigo',\n",
        "                      'candy':'Chocolate Covered Potato Chips'},\n",
        "             \"Neerja\":{'color': 'Green',\n",
        "                       'candy': 'Milk Chocolate'}\n",
        "\n",
        "             }"
      ],
      "metadata": {
        "id": "d3lobm-cDyPv"
      },
      "execution_count": 5,
      "outputs": []
    },
    {
      "cell_type": "code",
      "source": [
        "# display the full nested dictionary.\n",
        "fav_items"
      ],
      "metadata": {
        "colab": {
          "base_uri": "https://localhost:8080/"
        },
        "id": "Du0klNSADzD4",
        "outputId": "11536ace-888c-4d74-e845-29298e7d30b4"
      },
      "execution_count": 6,
      "outputs": [
        {
          "output_type": "execute_result",
          "data": {
            "text/plain": [
              "{'James': {'color': 'Blue', 'candy': 'Jelly Bellies'},\n",
              " 'Purvi': {'color': 'Green', 'candy': 'Dark Chocolate'},\n",
              " 'Sherlin': {'color': 'Purple', 'candy': \"Peanut M&M's\"},\n",
              " 'Josh': {'color': 'Indigo', 'candy': 'Chocolate Covered Potato Chips'},\n",
              " 'Neerja': {'color': 'Green', 'candy': 'Milk Chocolate'}}"
            ]
          },
          "metadata": {},
          "execution_count": 6
        }
      ]
    },
    {
      "cell_type": "code",
      "source": [
        "\n",
        "# Adding \"Brenda\" and her favorites to the dictionary\n",
        "fav_items['Brenda'] = {'color':'Blue','candy':\"Reese's Cups\"}\n"
      ],
      "metadata": {
        "id": "cgCMMNC0D1h2"
      },
      "execution_count": 7,
      "outputs": []
    },
    {
      "cell_type": "code",
      "source": [
        "\n",
        "fav_items['Bashar'] = {'color':'Blue', 'candy': 'White Choclate'}\n",
        "# display the updated dictionary\n",
        "fav_items\n"
      ],
      "metadata": {
        "colab": {
          "base_uri": "https://localhost:8080/"
        },
        "id": "mOHj6fbUD6y8",
        "outputId": "d17e80fc-1c50-40b5-8631-426ca3b12be1"
      },
      "execution_count": 8,
      "outputs": [
        {
          "output_type": "execute_result",
          "data": {
            "text/plain": [
              "{'James': {'color': 'Blue', 'candy': 'Jelly Bellies'},\n",
              " 'Purvi': {'color': 'Green', 'candy': 'Dark Chocolate'},\n",
              " 'Sherlin': {'color': 'Purple', 'candy': \"Peanut M&M's\"},\n",
              " 'Josh': {'color': 'Indigo', 'candy': 'Chocolate Covered Potato Chips'},\n",
              " 'Neerja': {'color': 'Green', 'candy': 'Milk Chocolate'},\n",
              " 'Brenda': {'color': 'Blue', 'candy': \"Reese's Cups\"},\n",
              " 'Bashar': {'color': 'Blue', 'candy': 'White Choclate'}}"
            ]
          },
          "metadata": {},
          "execution_count": 8
        }
      ]
    },
    {
      "cell_type": "code",
      "source": [
        "\n",
        "# Slice out Purvi's favorite candy\n",
        "fav_items['Purvi']['candy']"
      ],
      "metadata": {
        "colab": {
          "base_uri": "https://localhost:8080/",
          "height": 35
        },
        "id": "Vxrjt2aWD_pj",
        "outputId": "5d949fcb-801e-4b83-95b2-b66bf5cf5e77"
      },
      "execution_count": 9,
      "outputs": [
        {
          "output_type": "execute_result",
          "data": {
            "text/plain": [
              "'Dark Chocolate'"
            ],
            "application/vnd.google.colaboratory.intrinsic+json": {
              "type": "string"
            }
          },
          "metadata": {},
          "execution_count": 9
        }
      ]
    },
    {
      "cell_type": "code",
      "source": [
        "# sherlin fav candy\n",
        "\n",
        "fav_items['Sherlin']['candy']\n"
      ],
      "metadata": {
        "colab": {
          "base_uri": "https://localhost:8080/",
          "height": 35
        },
        "id": "aIOSybDoEHFj",
        "outputId": "f60059d9-f7b2-4da8-aa29-2ec3b2fa3b78"
      },
      "execution_count": 10,
      "outputs": [
        {
          "output_type": "execute_result",
          "data": {
            "text/plain": [
              "\"Peanut M&M's\""
            ],
            "application/vnd.google.colaboratory.intrinsic+json": {
              "type": "string"
            }
          },
          "metadata": {},
          "execution_count": 10
        }
      ]
    },
    {
      "cell_type": "code",
      "source": [
        "\n",
        "# update james' fav color to Purple\n",
        "fav_items['James'][\"color\"] = \"Purple\"\n",
        "\n"
      ],
      "metadata": {
        "id": "v6znmYX4EMI7"
      },
      "execution_count": 11,
      "outputs": []
    },
    {
      "cell_type": "code",
      "source": [
        "# confirm the value has changed\n",
        "fav_items['James'][\"color\"]\n"
      ],
      "metadata": {
        "colab": {
          "base_uri": "https://localhost:8080/",
          "height": 35
        },
        "id": "Frdi0NRMEP48",
        "outputId": "57c04591-4f5f-41b3-9fe7-c52487a537c8"
      },
      "execution_count": 12,
      "outputs": [
        {
          "output_type": "execute_result",
          "data": {
            "text/plain": [
              "'Purple'"
            ],
            "application/vnd.google.colaboratory.intrinsic+json": {
              "type": "string"
            }
          },
          "metadata": {},
          "execution_count": 12
        }
      ]
    },
    {
      "cell_type": "code",
      "source": [
        "#to change neerja fav candy\n",
        "\n",
        "fav_items['Neerja'] ['candy'] = ['Dark Chocolate']"
      ],
      "metadata": {
        "id": "ox2XOPbZESX2"
      },
      "execution_count": 13,
      "outputs": []
    },
    {
      "cell_type": "code",
      "source": [
        "#to test\n",
        "fav_items['Neerja']['candy']"
      ],
      "metadata": {
        "colab": {
          "base_uri": "https://localhost:8080/"
        },
        "id": "1K7X2XFMEVU-",
        "outputId": "8f2eee6f-3d3c-48c3-ff80-ff5fac815a3d"
      },
      "execution_count": 14,
      "outputs": [
        {
          "output_type": "execute_result",
          "data": {
            "text/plain": [
              "['Dark Chocolate']"
            ]
          },
          "metadata": {},
          "execution_count": 14
        }
      ]
    }
  ]
}